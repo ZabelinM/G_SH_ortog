{
 "cells": [
  {
   "cell_type": "code",
   "execution_count": 1,
   "metadata": {},
   "outputs": [],
   "source": [
    "from sympy import Matrix, sqrt, S, eye, symbols, sqf_list, factor"
   ]
  },
  {
   "cell_type": "code",
   "execution_count": 2,
   "metadata": {},
   "outputs": [],
   "source": [
    "def sk(u, v):\n",
    "    res = 0\n",
    "    for i in range(len(u)):\n",
    "        res += u[i] * v[i]\n",
    "    return res"
   ]
  },
  {
   "cell_type": "code",
   "execution_count": 3,
   "metadata": {},
   "outputs": [],
   "source": [
    "def GSH():\n",
    "    n = int(input())\n",
    "    data = []\n",
    "    for _ in range(n):\n",
    "        val = list(map(int, input().split()))\n",
    "        data.append(val)\n",
    "\n",
    "    res = []\n",
    "\n",
    "    for i in range(len(data)):\n",
    "        if sk(data[i], data[i]) == 0:\n",
    "            continue\n",
    "        else:\n",
    "            ort_v = Matrix(data[i])\n",
    "            for v in res:\n",
    "                ort_v -= Matrix(((sk(data[i], v))/sk(v, v)) * v)\n",
    "\n",
    "            if sk(ort_v, ort_v) != 0:\n",
    "                res.append((ort_v))\n",
    "\n",
    "\n",
    "\n",
    "    for el in res:\n",
    "        display(el)\n",
    "        \n",
    "    return res\n",
    "\n"
   ]
  },
  {
   "cell_type": "code",
   "execution_count": 4,
   "metadata": {},
   "outputs": [],
   "source": [
    "def pr(S, x):\n",
    "    res = Matrix([0]*len(S[0]))\n",
    "    for v in S:\n",
    "        res += ((sk(v,x))/(sk(v,v)))*(v)\n",
    "        \n",
    "    display(res)\n",
    "    \n",
    "    return res"
   ]
  },
  {
   "cell_type": "code",
   "execution_count": 5,
   "metadata": {},
   "outputs": [],
   "source": [
    "x = symbols('x')\n",
    "t = symbols('t')"
   ]
  },
  {
   "cell_type": "markdown",
   "metadata": {},
   "source": [
    " ---------"
   ]
  }
 ],
 "metadata": {
  "kernelspec": {
   "display_name": "Python 3",
   "language": "python",
   "name": "python3"
  },
  "language_info": {
   "codemirror_mode": {
    "name": "ipython",
    "version": 3
   },
   "file_extension": ".py",
   "mimetype": "text/x-python",
   "name": "python",
   "nbconvert_exporter": "python",
   "pygments_lexer": "ipython3",
   "version": "3.8.3"
  }
 },
 "nbformat": 4,
 "nbformat_minor": 4
}
